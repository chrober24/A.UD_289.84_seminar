{
  "nbformat": 4,
  "nbformat_minor": 0,
  "metadata": {
    "colab": {
      "name": "Flickr_Scraping.ipynb",
      "provenance": [],
      "mount_file_id": "17fc5jUQRAXfhtEzsO4sdwLOooxK2jMVB",
      "authorship_tag": "ABX9TyNy8jQI5IMDGy9ekL/inU2i",
      "include_colab_link": true
    },
    "kernelspec": {
      "name": "python3",
      "display_name": "Python 3"
    },
    "language_info": {
      "name": "python"
    }
  },
  "cells": [
    {
      "cell_type": "markdown",
      "metadata": {
        "id": "view-in-github",
        "colab_type": "text"
      },
      "source": [
        "<a href=\"https://colab.research.google.com/github/chrober24/A.UD_289.84_seminar/blob/main/Flickr_Scraping.ipynb\" target=\"_parent\"><img src=\"https://colab.research.google.com/assets/colab-badge.svg\" alt=\"Open In Colab\"/></a>"
      ]
    },
    {
      "cell_type": "markdown",
      "source": [
        "###Scrape Flickr for Images"
      ],
      "metadata": {
        "id": "40sY08j1jOVI"
      }
    },
    {
      "cell_type": "code",
      "source": [
        "#@title Mount Google Drive\n",
        "from google.colab import drive\n",
        "drive.mount('/content/drive')"
      ],
      "metadata": {
        "cellView": "form",
        "id": "LAd0P3vw8rfG"
      },
      "execution_count": null,
      "outputs": []
    },
    {
      "cell_type": "code",
      "source": [
        "#@title download flickr-scrape repository to drive or to colab\n",
        "import os\n",
        "import shlex\n",
        "if os.path.isdir(\"/content/drive/MyDrive/scraping/flickr-scrape\"):\n",
        "  %cd \"/content/drive/MyDrive/scraping/flickr-scrape\"\n",
        "elif os.path.isdir(\"/content/drive\"):\n",
        "  %cd /content/drive/MyDrive/\n",
        "  !mkdir scraping\n",
        "  %cd scraping/\n",
        "  !git clone https://github.com/antiboredom/flickr-scrape\n",
        "  %cd /content/drive/MyDrive/scraping/flickr-scrape\n",
        "else:\n",
        "  !git clone https://github.com/antiboredom/flickr-scrape\n",
        "  %cd flickr-scrape/"
      ],
      "metadata": {
        "cellView": "form",
        "id": "cU3ldiN18z_a"
      },
      "execution_count": null,
      "outputs": []
    },
    {
      "cell_type": "markdown",
      "source": [
        "you will need to create a file called **credentials.json** with your unique Key and Secret from the Flickr api [get api key](https://https://www.flickr.com/services/api/misc.api_keys.html)\n",
        "\n",
        "you will need to create a file called `credentials.json` that contain your api key and secret formatted like this: \n",
        "{\"KEY\":\"4aBe2925fbc1bf153119ae01cfacd431\", \"SECRET\":\"cc931a84b3ccf013\"}  \n",
        "\n",
        "(copy and paste this into your file and change the strings to match your credentials)"
      ],
      "metadata": {
        "id": "3jRteoCljVtL"
      }
    },
    {
      "cell_type": "code",
      "source": [
        "#@markdown download my credentials \n",
        "\n",
        "#@markdown <font color=\"red\">**Only use this as a last resort**\n",
        "!gdown --id 10s1VpG3rIC04dNyVvR_1LNeALiTGtSVF"
      ],
      "metadata": {
        "id": "8giIl65_DVgt",
        "cellView": "form"
      },
      "execution_count": null,
      "outputs": []
    },
    {
      "cell_type": "code",
      "metadata": {
        "id": "4ONEYFGhx3a1",
        "cellView": "form"
      },
      "source": [
        "#@title scrape flickr for images\n",
        "#@markdown check README.md for options\n",
        "\n",
        "search_term = \"landscape\" #@param {type: 'string'}\n",
        "start_page = 1 #@param {type: 'number'}\n",
        "max_pages = 1 #@param {type: 'number'}\n",
        "!python scraper.py --search $search_term --start-page $start_page --max-pages $max_pages"
      ],
      "execution_count": null,
      "outputs": []
    },
    {
      "cell_type": "code",
      "source": [
        "\n",
        "\n",
        "folder_to_zip = 'landscape' #@param {type: 'string'}\n",
        "output_location = '/content/drive/MyDrive/scraping/flickr-scrape/' #@param {type: 'string'}\n",
        "zip = output_location + folder_to_zip + '.zip'\n",
        "folder = '/content/flickr-scrape/images/' + folder_to_zip\n",
        "!zip -r $zip $folder"
      ],
      "metadata": {
        "cellView": "form",
        "id": "q3oK_tgp6VLu"
      },
      "execution_count": null,
      "outputs": []
    }
  ]
}