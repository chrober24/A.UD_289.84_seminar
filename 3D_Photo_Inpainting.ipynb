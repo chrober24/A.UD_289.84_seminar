{
  "nbformat": 4,
  "nbformat_minor": 0,
  "metadata": {
    "colab": {
      "name": "3D-Photo-Inpainting.ipynb",
      "provenance": [],
      "collapsed_sections": [],
      "include_colab_link": true
    },
    "kernelspec": {
      "name": "python3",
      "display_name": "Python 3"
    },
    "accelerator": "GPU"
  },
  "cells": [
    {
      "cell_type": "markdown",
      "metadata": {
        "id": "view-in-github",
        "colab_type": "text"
      },
      "source": [
        "<a href=\"https://colab.research.google.com/github/chrober24/A.UD_289.84_seminar/blob/main/3D_Photo_Inpainting.ipynb\" target=\"_parent\"><img src=\"https://colab.research.google.com/assets/colab-badge.svg\" alt=\"Open In Colab\"/></a>"
      ]
    },
    {
      "cell_type": "markdown",
      "metadata": {
        "id": "IY-s3ZpHBeAU"
      },
      "source": [
        "**[CVPR 2020] 3D Photography using Context-aware Layered Depth Inpainting**\n",
        "\n",
        "[project website](https://shihmengli.github.io/3D-Photo-Inpainting/)"
      ]
    },
    {
      "cell_type": "markdown",
      "metadata": {
        "id": "LPQ0EWxgvMIc"
      },
      "source": [
        "# Setup\n"
      ]
    },
    {
      "cell_type": "code",
      "metadata": {
        "id": "5o-EIMeaghU0"
      },
      "source": [
        "!pip3 install vispy==0.6.4 moviepy==1.0.2 networkx==2.3 transforms3d==0.3.1"
      ],
      "execution_count": null,
      "outputs": []
    },
    {
      "cell_type": "markdown",
      "metadata": {
        "id": "c-g7AeLMvY0R"
      },
      "source": [
        "- **Download script and pretrained model**\n"
      ]
    },
    {
      "cell_type": "code",
      "metadata": {
        "id": "cOFIBkWrBlNM"
      },
      "source": [
        "%cd /content/\n",
        "!git clone https://github.com/vt-vl-lab/3d-photo-inpainting.git\n",
        "%cd 3d-photo-inpainting\n",
        "!sh download.sh"
      ],
      "execution_count": null,
      "outputs": []
    },
    {
      "cell_type": "markdown",
      "metadata": {
        "id": "D_Fg_aMeDnmd"
      },
      "source": [
        "- **Switch off off-screen rendering**"
      ]
    },
    {
      "cell_type": "code",
      "metadata": {
        "id": "S9TmdOBRDXcV"
      },
      "source": [
        "!sed -i 's/offscreen_rendering: True/offscreen_rendering: False/g' argument.yml"
      ],
      "execution_count": 6,
      "outputs": []
    },
    {
      "cell_type": "markdown",
      "source": [
        "# Upload Images\n",
        "**Please upload `.jpg` or `.png` files to `/content/3d-photo-inpainting-master/image/`**\n",
        "\n",
        "You can run this step multiple times to upload multiple `.jpg/.png` files."
      ],
      "metadata": {
        "id": "RELDepU_8tZi"
      }
    },
    {
      "cell_type": "code",
      "metadata": {
        "id": "n-Kl6fo1oows",
        "cellView": "form"
      },
      "source": [
        "#@title Upload Images\n",
        "\n",
        "%cd image\n",
        "from google.colab import files\n",
        "uploaded = files.upload()\n",
        "for fn in uploaded.keys():\n",
        "  print('User uploaded file \"{name}\" with length {length} bytes'.format(\n",
        "      name=fn, length=len(uploaded[fn])))\n",
        "%cd .."
      ],
      "execution_count": null,
      "outputs": []
    },
    {
      "cell_type": "markdown",
      "source": [
        "# Write new Argument File\n",
        "edit the arguments in this file to control settings for the inpainting\n",
        "\n",
        "Important Settings will have a green comment next to them\n",
        "\n",
        "A detailed explanation of all settings can be found here: ```/content/3d-photo-inpainting/DOCUMENTATION.md```\n",
        "\n",
        "important settings: \n",
        "\n",
        "\n",
        "*   line 7: fps\n",
        "*   line 8: num_frames\n",
        "*   line 14: specific-- specify single image to process. otherwise, all images in the folder will be processed\n",
        "*   line 15: longer_side_len-- dimension of output (higher than 960 may run out of memory)\n",
        "*   line 25: img_format: change to .png if using png format\n",
        "\n"
      ],
      "metadata": {
        "id": "h4YTA1vI6WNB"
      }
    },
    {
      "cell_type": "code",
      "source": [
        "%%writefile argument.yml\n",
        "depth_edge_model_ckpt: checkpoints/edge-model.pth\n",
        "depth_feat_model_ckpt: checkpoints/depth-model.pth\n",
        "rgb_feat_model_ckpt: checkpoints/color-model.pth\n",
        "MiDaS_model_ckpt: MiDaS/model.pt\n",
        "use_boostmonodepth: True\n",
        "fps: 40\n",
        "num_frames: 240\n",
        "x_shift_range: [0.00, 0.00, -0.015, -0.015]\n",
        "y_shift_range: [0.00, 0.00, -0.015, -0.00]\n",
        "z_shift_range: [-0.05, -0.05, -0.05, -0.05]\n",
        "traj_types: ['double-straight-line', 'double-straight-line', 'circle', 'circle']\n",
        "video_postfix: ['dolly-zoom-in', 'zoom-in', 'circle', 'swing']\n",
        "specific: ''\n",
        "longer_side_len: 960\n",
        "src_folder: image\n",
        "depth_folder: depth\n",
        "mesh_folder: mesh\n",
        "video_folder: video\n",
        "load_ply: False\n",
        "save_ply: True\n",
        "inference_video: True\n",
        "gpu_ids: 0\n",
        "offscreen_rendering: False\n",
        "img_format: '.jpg'\n",
        "depth_format: '.npy'\n",
        "require_midas: True\n",
        "depth_threshold: 0.04\n",
        "ext_edge_threshold: 0.002\n",
        "sparse_iter: 5\n",
        "filter_size: [7, 7, 5, 5, 5]\n",
        "sigma_s: 4.0\n",
        "sigma_r: 0.5\n",
        "redundant_number: 12\n",
        "background_thickness: 70\n",
        "context_thickness: 140\n",
        "background_thickness_2: 70\n",
        "context_thickness_2: 70\n",
        "discount_factor: 1.00\n",
        "log_depth: True\n",
        "largest_size: 512\n",
        "depth_edge_dilate: 10\n",
        "depth_edge_dilate_2: 5\n",
        "extrapolate_border: True\n",
        "extrapolation_thickness: 60\n",
        "repeat_inpaint_edge: True\n",
        "crop_border: [0.03, 0.03, 0.05, 0.03]\n",
        "anti_flickering: True"
      ],
      "metadata": {
        "id": "UaOPfN573sXq"
      },
      "execution_count": null,
      "outputs": []
    },
    {
      "cell_type": "markdown",
      "metadata": {
        "id": "wyLFopwVDzUg"
      },
      "source": [
        "# Execute the 3D Photo Inpainting\n",
        "  - Note: The 3D photo generation process usually takes about 2-3 minutes or more depending on the available computing resources."
      ]
    },
    {
      "cell_type": "code",
      "metadata": {
        "id": "i5-MWEjfBjYx"
      },
      "source": [
        "!python main.py --config argument.yml"
      ],
      "execution_count": null,
      "outputs": []
    },
    {
      "cell_type": "markdown",
      "metadata": {
        "id": "wPvkMT0msIJB"
      },
      "source": [
        "- **The results are stored in the following directories**\n",
        "  - Corresponding depth map estimated by [MiDaS](https://github.com/intel-isl/MiDaS.git) \n",
        "      - E.g. ```/content/3d-photo-inpainting/depth/moon.npy```\n",
        "  - Inpainted 3D mesh\n",
        "      - E.g. ```/content/3d-photo-inpainting/mesh/moon.ply```\n",
        "  - Rendered videos with zoom-in motion\n",
        "      - E.g. ```/content/3d-photo-inpainting/video/moon_zoom-in.mp4```\n",
        "  - Rendered videos with swing motion\n",
        "      - E.g. ```/content/3d-photo-inpainting/video/moon_swing.mp4```\n",
        "  - Rendered videos with circle motion\n",
        "      - E.g. ```/content/3d-photo-inpainting/video/moon_circle.mp4```\n",
        "  \n",
        "    ![](https://drive.google.com/uc?id=1xBiZAeGfhsoAsG08N5UM8-f993p0G5HF)"
      ]
    },
    {
      "cell_type": "code",
      "source": [
        "#@title Show Video\n",
        "\n",
        "vid_path = '/content/3d-photo-inpainting/video/A1_zoom-in.mp4' #@param {type: 'string'}\n",
        "W = 1024 #@param {type: 'number'}\n",
        "H = 1024 #@param {type: 'number'}\n",
        "\n",
        "def show_local_mp4_video(file_name, width=W, height=H):\n",
        "  import io\n",
        "  import base64\n",
        "  from IPython.display import HTML\n",
        "  video_encoded = base64.b64encode(io.open(file_name, 'rb').read())\n",
        "  return HTML(data='''<video width=\"{0}\" height=\"{1}\" alt=\"test\" controls>\n",
        "                        <source src=\"data:video/mp4;base64,{2}\" type=\"video/mp4\" />\n",
        "                      </video>'''.format(width, height, video_encoded.decode('ascii')))\n",
        "\n",
        "show_local_mp4_video(vid_path, width= W, height= H)"
      ],
      "metadata": {
        "cellView": "form",
        "id": "3TlcTyaX969q"
      },
      "execution_count": null,
      "outputs": []
    }
  ]
}