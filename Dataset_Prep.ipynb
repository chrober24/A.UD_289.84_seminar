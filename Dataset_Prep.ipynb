{
  "nbformat": 4,
  "nbformat_minor": 0,
  "metadata": {
    "colab": {
      "name": "Dataset_Prep.ipynb",
      "provenance": [],
      "machine_shape": "hm",
      "include_colab_link": true
    },
    "kernelspec": {
      "name": "python3",
      "display_name": "Python 3"
    },
    "language_info": {
      "name": "python"
    },
    "accelerator": "GPU"
  },
  "cells": [
    {
      "cell_type": "markdown",
      "metadata": {
        "id": "view-in-github",
        "colab_type": "text"
      },
      "source": [
        "<a href=\"https://colab.research.google.com/github/chrober24/A.UD_289.84_seminar/blob/main/Dataset_Prep.ipynb\" target=\"_parent\"><img src=\"https://colab.research.google.com/assets/colab-badge.svg\" alt=\"Open In Colab\"/></a>"
      ]
    },
    {
      "cell_type": "markdown",
      "metadata": {
        "id": "ov1iqYwkDEeY"
      },
      "source": [
        "#Dataset Preparation\n",
        "\n",
        "this notebook contains code for praparing image datasets for use with stylegan2 and other image-based ML models.\n",
        "\n",
        "This notebook is derrived from code written by [Derrick Shultz](https://github.com/dvschultz/dataset-tools)"
      ]
    },
    {
      "cell_type": "markdown",
      "metadata": {
        "id": "qmEVVvWq8rkF"
      },
      "source": [
        "#setup\n",
        "\n",
        "\n",
        "This cell downloads all of the necessary files into your google drive "
      ]
    },
    {
      "cell_type": "code",
      "metadata": {
        "id": "Gdl_HcPhkTsv",
        "colab": {
          "base_uri": "https://localhost:8080/"
        },
        "outputId": "9f067dff-6863-4eb6-f6ad-be59405d7840",
        "cellView": "form"
      },
      "source": [
        "#@title Connect to Drive\n",
        "\n",
        "from google.colab import drive\n",
        "drive.mount('/content/drive')"
      ],
      "execution_count": 1,
      "outputs": [
        {
          "output_type": "stream",
          "name": "stdout",
          "text": [
            "Mounted at /content/drive\n"
          ]
        }
      ]
    },
    {
      "cell_type": "code",
      "source": [
        "#@title Setup\n",
        "\n",
        "import os\n",
        "\n",
        "#check if folder exists in drive, install requirements\n",
        "if os.path.isdir(\"/content/drive/MyDrive/dataset_prep\"):\n",
        "  %cd \"/content/drive/MyDrive/dataset_prep/dataset-tools\"\n",
        "  !pip install -r requirements.txt\n",
        "\n",
        "#if using drive, but folder doesn't exist, create all necessary\n",
        "#directories and clone github repo\n",
        "elif os.path.isdir(\"/content/drive/\"):\n",
        "  %cd /content/drive/MyDrive/\n",
        "  !mkdir dataset_prep\n",
        "  %cd dataset_prep/\n",
        "  !git clone https://github.com/dvschultz/dataset-tools.git\n",
        "  %cd dataset-tools\n",
        "  !pip install -r requirements.txt\n",
        "  !mkdir input\n",
        "  !mkdir output\n",
        "  !mkdir zipped_files\n",
        "\n",
        "#if not using drive, clone repository to colab\n",
        "else:\n",
        "  !git clone https://github.com/dvschultz/dataset-tools.git\n",
        "  %cd dataset-tools\n",
        "  !pip install -r requirements.txt\n",
        "  !mkdir input\n",
        "  !mkdir output\n",
        "  !mkdir zipped_files"
      ],
      "metadata": {
        "id": "hVh1K-jDvaPG",
        "cellView": "form"
      },
      "execution_count": null,
      "outputs": []
    },
    {
      "cell_type": "markdown",
      "metadata": {
        "id": "ElbFHsZj8-Pg"
      },
      "source": [
        "#Dataset Preparation\n",
        "\n",
        "##Dataset_Tools\n",
        "\n",
        "This code gives you multiple options for cropping and formatting images in a dataset.\n",
        "\n",
        "all options can be found in the README.md\n",
        "\n"
      ]
    },
    {
      "cell_type": "code",
      "metadata": {
        "id": "XLXVD4xyAMxk",
        "cellView": "form"
      },
      "source": [
        "#@title Dataset-tools.py -- Crop and format images\n",
        "#@markdown `dataset_name`: how you identify your SG2 model. Make it something memorable\n",
        "\n",
        "#@markdown `size`: dimensions of images (determines the resolution of your generated images)\n",
        "\n",
        "#@markdown `process_type`: determines how images are processed (crop_to_square best for stylegan)\n",
        "\n",
        "#@markdown `zip`: will automatically create zip folder needed for training\n",
        "\n",
        "#@markdown `copy `: will automatically copy to stylegan datasets folder (must setup stylegan prior to running)\n",
        "\n",
        "dataset_name = 'example' #@param {type: 'string'}\n",
        "input = '/content/drive/MyDrive/dataset_prep/dataset-tools/input/' + dataset_name + '/' \n",
        "output = '/content/drive/MyDrive/dataset_prep/dataset-tools/output/' + dataset_name + '/'\n",
        "size = \"512\" #@param ['256', '512', '1024']\n",
        "process_type = 'crop_to_square' #@param [\"resize\",\"square\",\"crop_to_square\",\"canny\",\"canny-pix2pix\",\"crop_square_patch\",\"scale\",\"many_squares\",\"crop\",\"distance\"]\n",
        "zip_file = './zipped_files/' + dataset_name + '.zip'\n",
        "\n",
        "!python dataset-tools.py --input_folder $input --output_folder $output --process_type=$process_type --max_size=$size --force_max\n",
        "\n",
        "zip = True #@param {type: 'boolean'}\n",
        "copy = True #@param {type: 'boolean'}\n",
        "\n",
        "if zip == True: \n",
        "  !zip -r $zip_file $output\n",
        "  print('zipped folder now in dataset_tools/zipped_files/')\n",
        "\n",
        "if copy == True:\n",
        "  !cp $zip_file /content/drive/MyDrive/colab-sg2-ada-pytorch/stylegan2-ada-pytorch/datasets\n",
        "  print('files copied!')\n"
      ],
      "execution_count": null,
      "outputs": []
    },
    {
      "cell_type": "markdown",
      "metadata": {
        "id": "0Vwmg2vVB5_7"
      },
      "source": [
        "##Dedupe\n",
        "\n",
        "This code searches for and deletes duplicate images within your dataset"
      ]
    },
    {
      "cell_type": "code",
      "metadata": {
        "id": "qL1pmifyB1Wl",
        "cellView": "form"
      },
      "source": [
        "dataset_name = 'example' #@param {type: 'string'}\n",
        "input = '/content/drive/MyDrive/dataset_prep/dataset-tools/input/' + dataset_name + '/' \n",
        "output = '/content/drive/MyDrive/dataset_prep/dataset-tools/output/' + dataset_name + '/'\n",
        "\n",
        "!python dedupe.py --input_folder $input --output_folder $output --relative"
      ],
      "execution_count": null,
      "outputs": []
    },
    {
      "cell_type": "code",
      "metadata": {
        "id": "ha52z3yRGNAQ",
        "cellView": "form"
      },
      "source": [
        "#@title Interactive Cropping\n",
        "#@markdown please see this [video](https://youtu.be/tUzUJNrSAu8) for a tutorial\n",
        "\n",
        "!python interactive.py"
      ],
      "execution_count": null,
      "outputs": []
    }
  ]
}