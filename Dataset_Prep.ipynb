{
  "nbformat": 4,
  "nbformat_minor": 0,
  "metadata": {
    "colab": {
      "name": "Dataset_Prep.ipynb",
      "provenance": [],
      "machine_shape": "hm",
      "include_colab_link": true
    },
    "kernelspec": {
      "name": "python3",
      "display_name": "Python 3"
    },
    "language_info": {
      "name": "python"
    },
    "accelerator": "GPU"
  },
  "cells": [
    {
      "cell_type": "markdown",
      "metadata": {
        "id": "view-in-github",
        "colab_type": "text"
      },
      "source": [
        "<a href=\"https://colab.research.google.com/github/chrober24/A.UD_289.84_seminar/blob/main/Dataset_Prep.ipynb\" target=\"_parent\"><img src=\"https://colab.research.google.com/assets/colab-badge.svg\" alt=\"Open In Colab\"/></a>"
      ]
    },
    {
      "cell_type": "markdown",
      "metadata": {
        "id": "ov1iqYwkDEeY"
      },
      "source": [
        "#Dataset Preparation\n",
        "\n",
        "this notebook contains code for praparing image datasets for use with stylegan2 and other image-based ML models.\n",
        "\n",
        "This notebook is derrived from code written by [Derrick Shultz](https://github.com/dvschultz/dataset-tools)"
      ]
    },
    {
      "cell_type": "markdown",
      "metadata": {
        "id": "qmEVVvWq8rkF"
      },
      "source": [
        "#setup\n",
        "\n",
        "\n",
        "This cell downloads all of the necessary files into your google drive "
      ]
    },
    {
      "cell_type": "code",
      "metadata": {
        "id": "Gdl_HcPhkTsv",
        "colab": {
          "base_uri": "https://localhost:8080/"
        },
        "outputId": "cddfd75b-0809-449b-f06d-8e53ba782acd",
        "cellView": "form"
      },
      "source": [
        "#@title Connect to Drive\n",
        "\n",
        "from google.colab import drive\n",
        "drive.mount('/content/drive')"
      ],
      "execution_count": null,
      "outputs": [
        {
          "output_type": "stream",
          "name": "stdout",
          "text": [
            "Mounted at /content/drive\n"
          ]
        }
      ]
    },
    {
      "cell_type": "code",
      "source": [
        "#@title Setup\n",
        "\n",
        "import os\n",
        "\n",
        "#check if folder exists in drive, install requirements\n",
        "if os.path.isdir(\"/content/drive/MyDrive/dataset_prep\"):\n",
        "  %cd \"/content/drive/MyDrive/dataset_prep/dataset-tools\"\n",
        "  !pip install -r requirements.txt\n",
        "\n",
        "#if using drive, but folder doesn't exist, create all necessary\n",
        "#directories and clone github repo\n",
        "elif os.path.isdir(\"/content/drive/\"):\n",
        "  %cd /content/drive/MyDrive/\n",
        "  !mkdir dataset_prep\n",
        "  %cd dataset_prep/\n",
        "  !git clone https://github.com/dvschultz/dataset-tools.git\n",
        "  %cd dataset-tools\n",
        "  !pip install -r requirements.txt\n",
        "  !mkdir input\n",
        "  !mkdir output\n",
        "  !mkdir zipped_files\n",
        "\n",
        "#if not using drive, clone repository to colab\n",
        "else:\n",
        "  !git clone https://github.com/dvschultz/dataset-tools.git\n",
        "  %cd dataset-tools\n",
        "  !pip install -r requirements.txt\n",
        "  !mkdir input\n",
        "  !mkdir output\n",
        "  !mkdir zipped_files"
      ],
      "metadata": {
        "id": "hVh1K-jDvaPG",
        "cellView": "form",
        "colab": {
          "base_uri": "https://localhost:8080/"
        },
        "outputId": "49db4ef4-0a92-409a-ff9f-b891f966f9f5"
      },
      "execution_count": null,
      "outputs": [
        {
          "output_type": "stream",
          "name": "stdout",
          "text": [
            "/content/drive/MyDrive/dataset_prep/dataset-tools\n",
            "Requirement already satisfied: numpy>=1.7.0 in /usr/local/lib/python3.7/dist-packages (from -r requirements.txt (line 1)) (1.21.5)\n",
            "Collecting imutils==0.5.2\n",
            "  Downloading imutils-0.5.2.tar.gz (15 kB)\n",
            "Requirement already satisfied: opencv-python>=4.1.0.25 in /usr/local/lib/python3.7/dist-packages (from -r requirements.txt (line 3)) (4.1.2.30)\n",
            "Requirement already satisfied: scipy in /usr/local/lib/python3.7/dist-packages (from -r requirements.txt (line 4)) (1.4.1)\n",
            "Collecting mac-tag\n",
            "  Downloading mac-tag-2020.12.3.tar.gz (1.9 kB)\n",
            "Collecting psd-tools3\n",
            "  Downloading psd-tools3-1.9.2.tar.gz (73 kB)\n",
            "\u001b[K     |████████████████████████████████| 73 kB 1.5 MB/s \n",
            "\u001b[33mWARNING: Discarding https://files.pythonhosted.org/packages/10/e4/e7cd30c5b7ef26ebd99fcc52fd59a66a909e08884482346240a799653f24/psd-tools3-1.9.2.tar.gz#sha256=b46ba176c8c3765452f1202c6c6feebcf7dd35cdefab128576cfeeb1b7dd95d1 (from https://pypi.org/simple/psd-tools3/) (requires-python:>=3.7). Command errored out with exit status 1: python setup.py egg_info Check the logs for full command output.\u001b[0m\n",
            "\u001b[?25h  Downloading psd-tools3-1.9.0.tar.gz (14 kB)\n",
            "\u001b[33mWARNING: Discarding https://files.pythonhosted.org/packages/10/4b/cb8fb9669c65c0d502dee6afb59b93dc3a9189369e9f5a54e247487ff5b3/psd-tools3-1.9.0.tar.gz#sha256=2d969bc3fa86cc32725c987e7717e478204eb3561e54396a6d121d142fa1fdcf (from https://pypi.org/simple/psd-tools3/). Command errored out with exit status 1: python setup.py egg_info Check the logs for full command output.\u001b[0m\n",
            "  Downloading psd-tools3-1.8.2.tar.gz (167 kB)\n",
            "\u001b[K     |████████████████████████████████| 167 kB 24.4 MB/s \n",
            "\u001b[?25hCollecting lpips\n",
            "  Downloading lpips-0.1.4-py3-none-any.whl (53 kB)\n",
            "\u001b[K     |████████████████████████████████| 53 kB 2.6 MB/s \n",
            "\u001b[?25hCollecting PyMuPDF\n",
            "  Downloading PyMuPDF-1.19.6-cp37-cp37m-manylinux_2_17_x86_64.manylinux2014_x86_64.whl (8.8 MB)\n",
            "\u001b[K     |████████████████████████████████| 8.8 MB 22.0 MB/s \n",
            "\u001b[?25hCollecting runcmd\n",
            "  Downloading runcmd-2020.12.3.tar.gz (2.5 kB)\n",
            "Collecting values\n",
            "  Downloading values-2020.12.3.tar.gz (1.3 kB)\n",
            "Requirement already satisfied: docopt>=0.5 in /usr/local/lib/python3.7/dist-packages (from psd-tools3->-r requirements.txt (line 6)) (0.6.2)\n",
            "Collecting packbits\n",
            "  Downloading packbits-0.6.tar.gz (2.2 kB)\n",
            "Collecting exifread\n",
            "  Downloading ExifRead-2.3.2-py3-none-any.whl (38 kB)\n",
            "Collecting PyBundle\n",
            "  Downloading PyBundle-1.0.6.tar.gz (2.3 kB)\n",
            "Requirement already satisfied: torch>=0.4.0 in /usr/local/lib/python3.7/dist-packages (from lpips->-r requirements.txt (line 7)) (1.10.0+cu111)\n",
            "Requirement already satisfied: tqdm>=4.28.1 in /usr/local/lib/python3.7/dist-packages (from lpips->-r requirements.txt (line 7)) (4.63.0)\n",
            "Requirement already satisfied: torchvision>=0.2.1 in /usr/local/lib/python3.7/dist-packages (from lpips->-r requirements.txt (line 7)) (0.11.1+cu111)\n",
            "Requirement already satisfied: typing-extensions in /usr/local/lib/python3.7/dist-packages (from torch>=0.4.0->lpips->-r requirements.txt (line 7)) (3.10.0.2)\n",
            "Requirement already satisfied: pillow!=8.3.0,>=5.3.0 in /usr/local/lib/python3.7/dist-packages (from torchvision>=0.2.1->lpips->-r requirements.txt (line 7)) (7.1.2)\n",
            "Requirement already satisfied: psutil in /usr/local/lib/python3.7/dist-packages (from runcmd->mac-tag->-r requirements.txt (line 5)) (5.4.8)\n",
            "Building wheels for collected packages: imutils, mac-tag, psd-tools3, packbits, PyBundle, runcmd, values\n",
            "  Building wheel for imutils (setup.py) ... \u001b[?25l\u001b[?25hdone\n",
            "  Created wheel for imutils: filename=imutils-0.5.2-py3-none-any.whl size=24418 sha256=aeab7b734ed380d1a683f38cd00c94291ecf095f6abda812c88a94b11c01d5c4\n",
            "  Stored in directory: /root/.cache/pip/wheels/69/ce/94/7ef5323b46c32686c7292c18162a7b7530236230252fa9ec40\n",
            "  Building wheel for mac-tag (setup.py) ... \u001b[?25l\u001b[?25hdone\n",
            "  Created wheel for mac-tag: filename=mac_tag-2020.12.3-py3-none-any.whl size=1930 sha256=b79cdce0a478a274769f926ecabfbce1adef96a004fdd38d233d6a2baf0c155d\n",
            "  Stored in directory: /root/.cache/pip/wheels/21/db/8e/465eff4f8c96d0bf1280f84529617e3d32f1c039c234b734ec\n",
            "  Building wheel for psd-tools3 (setup.py) ... \u001b[?25l\u001b[?25hdone\n",
            "  Created wheel for psd-tools3: filename=psd_tools3-1.8.2-py3-none-any.whl size=81627 sha256=55b374890807ccb6f8c2d541ecdc24a19750c8166b0484a4a6956aa1f1ae8e9f\n",
            "  Stored in directory: /root/.cache/pip/wheels/9d/a5/e8/37a8b32261f2589b838c82f4490964979f9c899d13db2940e0\n",
            "  Building wheel for packbits (setup.py) ... \u001b[?25l\u001b[?25hdone\n",
            "  Created wheel for packbits: filename=packbits-0.6-py3-none-any.whl size=2683 sha256=5fe3890fb9eeac99f8036ba0d80e513bb0a4a495a2ddfb6900bfb8205c9bce13\n",
            "  Stored in directory: /root/.cache/pip/wheels/63/23/f4/80149d89bc52fa7d559dc33c448b0434e7b434514a50ac84a2\n",
            "  Building wheel for PyBundle (setup.py) ... \u001b[?25l\u001b[?25hdone\n",
            "  Created wheel for PyBundle: filename=PyBundle-1.0.6-py3-none-any.whl size=2145 sha256=57b29a61ef58caf3d3f88e09b98a2f7d56e501c6da577371eeea6ec805a18fca\n",
            "  Stored in directory: /root/.cache/pip/wheels/38/e1/8b/f18e9cf366a59a8458df42c6a36eb9338a1789507ba6f15f81\n",
            "  Building wheel for runcmd (setup.py) ... \u001b[?25l\u001b[?25hdone\n",
            "  Created wheel for runcmd: filename=runcmd-2020.12.3-py3-none-any.whl size=2376 sha256=3f6b4afd476d1f1296b5dbd3f0695a51739e63506ee5959068e98f729a7a7c09\n",
            "  Stored in directory: /root/.cache/pip/wheels/8c/06/f6/66b64d3e963c80a8ff1b10a0a55af98f8adcc77a6cd542ca0e\n",
            "  Building wheel for values (setup.py) ... \u001b[?25l\u001b[?25hdone\n",
            "  Created wheel for values: filename=values-2020.12.3-py3-none-any.whl size=1386 sha256=436e91e3564ddd3ee41a95471d750c16af35c3296f3f4aae8f461bef1e6901d2\n",
            "  Stored in directory: /root/.cache/pip/wheels/72/5b/76/a2fdac16138610fb0433ad75827f79def289083d657f2d394e\n",
            "Successfully built imutils mac-tag psd-tools3 packbits PyBundle runcmd values\n",
            "Installing collected packages: values, runcmd, PyBundle, packbits, exifread, PyMuPDF, psd-tools3, mac-tag, lpips, imutils\n",
            "  Attempting uninstall: imutils\n",
            "    Found existing installation: imutils 0.5.4\n",
            "    Uninstalling imutils-0.5.4:\n",
            "      Successfully uninstalled imutils-0.5.4\n",
            "Successfully installed PyBundle-1.0.6 PyMuPDF-1.19.6 exifread-2.3.2 imutils-0.5.2 lpips-0.1.4 mac-tag-2020.12.3 packbits-0.6 psd-tools3-1.8.2 runcmd-2020.12.3 values-2020.12.3\n"
          ]
        }
      ]
    },
    {
      "cell_type": "markdown",
      "metadata": {
        "id": "ElbFHsZj8-Pg"
      },
      "source": [
        "#Dataset Preparation\n",
        "\n",
        "##Dataset_Tools\n",
        "\n",
        "This code gives you multiple options for cropping and formatting images in a dataset.\n",
        "\n",
        "all options can be found in the README.md\n",
        "\n"
      ]
    },
    {
      "cell_type": "code",
      "metadata": {
        "id": "XLXVD4xyAMxk",
        "cellView": "form"
      },
      "source": [
        "#@title Dataset-tools.py -- Crop and format images\n",
        "#@markdown `dataset_name`: how you identify your SG2 model. Make it something memorable\n",
        "\n",
        "#@markdown `size`: dimensions of images (determines the resolution of your generated images)\n",
        "\n",
        "#@markdown `process_type`: determines how images are processed (crop_to_square best for stylegan)\n",
        "\n",
        "#@markdown `zip`: will automatically create zip folder needed for training\n",
        "\n",
        "#@markdown `copy `: will automatically copy to stylegan datasets folder (must setup stylegan prior to running)\n",
        "\n",
        "dataset_name = 'landscape' #@param {type: 'string'}\n",
        "input = '/content/drive/MyDrive/dataset_prep/dataset-tools/input/' + dataset_name + '/' \n",
        "output = '/content/drive/MyDrive/dataset_prep/dataset-tools/output/' + dataset_name + '/'\n",
        "size = \"512\" #@param ['256', '512', '1024']\n",
        "process_type = 'crop_to_square' #@param [\"resize\",\"square\",\"crop_to_square\",\"canny\",\"canny-pix2pix\",\"crop_square_patch\",\"scale\",\"many_squares\",\"crop\",\"distance\"]\n",
        "\n",
        "\n",
        "!python dataset-tools.py --input_folder $input --output_folder $output --process_type=$process_type --max_size=$size --force_max\n",
        "\n",
        "\n",
        "zip_file = './zipped_files/' + dataset_name + '.zip'\n",
        "zip = False #@param {type: 'boolean'}\n",
        "copy = False #@param {type: 'boolean'}\n",
        "\n",
        "if zip == True: \n",
        "  !zip -r $zip_file $output\n",
        "  print('zipped folder now in dataset_tools/zipped_files/')\n",
        "\n",
        "if copy == True:\n",
        "  !cp $zip_file /content/drive/MyDrive/colab-sg2-ada-pytorch/stylegan2-ada-pytorch/datasets\n",
        "  print('files copied!')\n"
      ],
      "execution_count": null,
      "outputs": []
    },
    {
      "cell_type": "code",
      "source": [
        "#@title Zip Folder of Images\n",
        "\n",
        "dataset_name = 'landscape' #@param {type: 'string'}\n",
        "zip_file = './zipped_files/' + dataset_name + '.zip'\n",
        "!zip -r $zip_file $output\n",
        " print('zipped folder now in dataset_tools/zipped_files/')"
      ],
      "metadata": {
        "cellView": "form",
        "id": "NNGDNkrD-dbs"
      },
      "execution_count": null,
      "outputs": []
    },
    {
      "cell_type": "code",
      "source": [
        "#@title Copy Zip File to Stylegan Datasets Folder \n",
        " \n",
        "dataset_name = 'landscape' #@param {type: 'string'}\n",
        "zip_file = './zipped_files/' + dataset_name + '.zip'\n",
        "!cp $zip_file /content/drive/MyDrive/colab-sg2-ada-pytorch/stylegan2-ada-pytorch/datasets\n",
        "print('files copied!')"
      ],
      "metadata": {
        "cellView": "form",
        "id": "CwT_in7V-yqF"
      },
      "execution_count": null,
      "outputs": []
    },
    {
      "cell_type": "markdown",
      "metadata": {
        "id": "0Vwmg2vVB5_7"
      },
      "source": [
        "##Dedupe\n",
        "\n",
        "This code searches for and deletes duplicate images within your dataset"
      ]
    },
    {
      "cell_type": "code",
      "metadata": {
        "id": "qL1pmifyB1Wl",
        "cellView": "form"
      },
      "source": [
        "dataset_name = 'example' #@param {type: 'string'}\n",
        "input = '/content/drive/MyDrive/dataset_prep/dataset-tools/input/' + dataset_name + '/' \n",
        "output = '/content/drive/MyDrive/dataset_prep/dataset-tools/output/' + dataset_name + '/'\n",
        "\n",
        "!python dedupe.py --input_folder $input --output_folder $output --relative"
      ],
      "execution_count": null,
      "outputs": []
    },
    {
      "cell_type": "code",
      "metadata": {
        "id": "ha52z3yRGNAQ",
        "cellView": "form"
      },
      "source": [
        "#@title Interactive Cropping\n",
        "#@markdown please see this [video](https://youtu.be/tUzUJNrSAu8) for a tutorial\n",
        "\n",
        "!python interactive.py"
      ],
      "execution_count": null,
      "outputs": []
    }
  ]
}