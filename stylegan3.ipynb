{
  "nbformat": 4,
  "nbformat_minor": 0,
  "metadata": {
    "colab": {
      "name": "stylegan3.ipynb",
      "private_outputs": true,
      "provenance": [],
      "machine_shape": "hm",
      "toc_visible": true,
      "mount_file_id": "1o4u94Rm9RJJ3eYkjvAfY9HDiQ1F2W3WK",
      "authorship_tag": "ABX9TyOAhHHDrUKxe+T/ueKX1OGM",
      "include_colab_link": true
    },
    "kernelspec": {
      "name": "python3",
      "display_name": "Python 3"
    },
    "language_info": {
      "name": "python"
    },
    "accelerator": "GPU"
  },
  "cells": [
    {
      "cell_type": "markdown",
      "metadata": {
        "id": "view-in-github",
        "colab_type": "text"
      },
      "source": [
        "<a href=\"https://colab.research.google.com/github/chrober24/A.UD_289.84_seminar/blob/main/stylegan3.ipynb\" target=\"_parent\"><img src=\"https://colab.research.google.com/assets/colab-badge.svg\" alt=\"Open In Colab\"/></a>"
      ]
    },
    {
      "cell_type": "markdown",
      "source": [
        "# Setup"
      ],
      "metadata": {
        "id": "2Qvk_nYgUswl"
      }
    },
    {
      "cell_type": "code",
      "source": [
        "#@title Connect to Drive\n",
        "\n",
        "from google.colab import drive\n",
        "drive.mount('/content/drive')"
      ],
      "metadata": {
        "id": "q7rgb5sJvM4r",
        "cellView": "form"
      },
      "execution_count": null,
      "outputs": []
    },
    {
      "cell_type": "code",
      "source": [
        "#@title Setup\n",
        "\n",
        "import os\n",
        "if os.path.isdir(\"/content/drive/MyDrive/SG3\"):\n",
        "    %cd \"/content/drive/MyDrive/SG3/stylegan3\"\n",
        "elif os.path.isdir(\"/content/drive/\"):\n",
        "    #install script\n",
        "    %cd \"/content/drive/MyDrive/\"\n",
        "    !mkdir SG3\n",
        "    %cd SG3\n",
        "    !git clone https://github.com/dvschultz/stylegan3\n",
        "    %cd stylegan3\n",
        "    !mkdir downloads\n",
        "    !mkdir datasets\n",
        "    !mkdir pretrained\n",
        "    !mkdir raw_imgs\n",
        "    !mkdir results\n",
        "    !mkdir generated\n",
        "    !gdown --id 1-5xZkD8ajXw1DdopTkH_rAoCsD72LhKU -O /content/drive/MyDrive/colab-sg2-ada-pytorch/stylegan2-ada-pytorch/pretrained/wikiart.pkl\n",
        "else:\n",
        "    !git clone https://github.com/dvschultz/stylegan3\n",
        "    %cd stylegan3/\n",
        "    !mkdir downloads\n",
        "    !mkdir datasets\n",
        "    !mkdir pretrained\n",
        "    !mkdir raw_imgs\n",
        "    !mkdir results\n",
        "    !mkdir generated\n",
        "    %cd pretrained\n",
        "    !gdown --id 1-5xZkD8ajXw1DdopTkH_rAoCsD72LhKU\n",
        "    %cd ../\n",
        "\n",
        "!pip install ninja opensimplex torch==1.7.1 torchvision==0.8.2"
      ],
      "metadata": {
        "id": "hVh1K-jDvaPG",
        "cellView": "form"
      },
      "execution_count": null,
      "outputs": []
    },
    {
      "cell_type": "markdown",
      "source": [
        "#Training"
      ],
      "metadata": {
        "id": "VjCJfMquU-tS"
      }
    },
    {
      "cell_type": "code",
      "source": [
        "#@title Download pretrained model from Nvidia\n",
        "\n",
        "model_name = 'stylegan3-t-ffhqu-1024x1024.pkl' #@param ['stylegan3-t-ffhq-1024x1024.pkl', 'stylegan3-t-ffhqu-1024x1024.pkl', 'stylegan3-t-ffhqu-256x256.pkl', 'stylegan3-r-ffhq-1024x1024.pkl', 'stylegan3-r-ffhqu-1024x1024.pkl', 'stylegan3-r-ffhqu-256x256.pkl', 'stylegan3-t-metfaces-1024x1024.pkl', 'stylegan3-t-metfacesu-1024x1024.pkl', 'stylegan3-r-metfaces-1024x1024.pkl', 'stylegan3-r-metfacesu-1024x1024.pkl', 'stylegan3-t-afhqv2-512x512.pkl', 'stylegan3-r-afhqv2-512x512.pkl']\n",
        "url = 'https://api.ngc.nvidia.com/v2/models/nvidia/research/stylegan3/versions/1/files/' + model_name\n",
        "outpath = './pretrained/' + model_name\n",
        "\n",
        "!wget $url -O $outpath"
      ],
      "metadata": {
        "id": "wACHaZjD3ZiZ",
        "cellView": "form"
      },
      "execution_count": null,
      "outputs": []
    },
    {
      "cell_type": "code",
      "source": [
        "#@title Prepare Raw Images\n",
        "\n",
        "#options\n",
        "source_folder = '/content/drive/MyDrive/stylegan2-aug-colab/stylegan2/raw_images/forest_gothic' #@param {type: 'string'}\n",
        "dataset_name = 'forest_gothic_512x512' #@param {type: 'string'}\n",
        "dest = './datasets/' + dataset_name +'.zip'\n",
        "crop_type = 'center-crop' #@param ['center-crop', 'center-crop-wide']\n",
        "resolution = '512x512' #@param ['256x256', '512x512', '1024x1024']\n",
        "\n",
        "#prepare zip file of images cropped and formatted for stylegan training\n",
        "!python dataset_tool.py --source=$source_folder  --dest=$dest --transform=$crop_type --resolution=$resolution"
      ],
      "metadata": {
        "id": "W9vZ2JOMx_7q",
        "cellView": "form"
      },
      "execution_count": null,
      "outputs": []
    },
    {
      "cell_type": "code",
      "source": [
        "#@title Run Training \n",
        "#@markdown When resuming from pretrained model, make sure the cfg matches that of the pretrained model\n",
        "cfg = 'stylegan3-t' #@param ['stylegan3-t', 'stylegan3-r', 'stylegan2']\n",
        "dataset = 'insects_machines' #@param {type: 'string'}\n",
        "dataset_path = './datasets/' + dataset +'.zip'\n",
        "resume_pkl = 'latest' #@param {type: 'string'}\n",
        "\n",
        "\n",
        "!python train.py --outdir=./results --cfg=$cfg \\\n",
        "  --data=$dataset_path --gpus=1 --batch=4 --batch-gpu=4 --gamma=10 --snap=1 --kimg=5000 --metrics=none\\\n",
        "  --resume=$resume_pkl"
      ],
      "metadata": {
        "cellView": "form",
        "id": "vhL93pqCfwuP"
      },
      "execution_count": null,
      "outputs": []
    },
    {
      "cell_type": "markdown",
      "source": [
        "# Generate Images"
      ],
      "metadata": {
        "id": "b4Frz8WCd6O_"
      }
    },
    {
      "cell_type": "code",
      "source": [
        "#@title Choose a model\n",
        "network_path = '/content/drive/MyDrive/SG3/stylegan3/results/00002-stylegan3-r-forest_gothic_512x512-gpus1-batch8-gamma10/network-snapshot-000100.pkl' #@param {type: 'string'}"
      ],
      "metadata": {
        "cellView": "form",
        "id": "zO0tsg0QYrkx"
      },
      "execution_count": null,
      "outputs": []
    },
    {
      "cell_type": "code",
      "source": [
        "!python gen_images.py --outdir=./generated/1 --trunc=0.8 --seeds=1-100 \\\n",
        "    --network=$network_path"
      ],
      "metadata": {
        "id": "B2tYxonVYo1G"
      },
      "execution_count": null,
      "outputs": []
    },
    {
      "cell_type": "code",
      "source": [
        "#@title Generate images from seeds\n",
        "\n",
        "out_path = './generated/1' #@param {type: 'string'}\n",
        "truncation_val = 0 #@param {type: 'slider', min:0, max:5, step:0.1}\n",
        "seeds = '1-100' #@param {type: 'string'}\n",
        "\n",
        "!python gen_images.py --outdir=$out_path --trunc=$truncation_val \\\n",
        "--seeds=$seeds --network=$network_path \\"
      ],
      "metadata": {
        "cellView": "form",
        "id": "57BUWkKBiOIG"
      },
      "execution_count": null,
      "outputs": []
    },
    {
      "cell_type": "code",
      "source": [
        "#@title Generate Linear Interpolation Video\n",
        "video_name = 'lerp' #@param {type: 'string'}\n",
        "output_path = './generated/' + video_name + '.mp4'\n",
        "\n",
        "truncation_val = 0 #@param {type: 'slider', min:0, max:5, step:0.1}\n",
        "seeds = '1-100' #@param {type: 'string'}\n",
        "gridX = 1 #@param {type: 'slider', min:1, max:8, step:1}\n",
        "gridY = 1 #@param {type: 'slider', min:1, max:8, step:1}\n",
        "grid = gridX + 'x' + gridY\n",
        "\n",
        "!python gen_video.py --output=$output_path --trunc=$truncation_val --seeds=$seeds --grid=$grid \\\n",
        "    --network=$network_path"
      ],
      "metadata": {
        "cellView": "form",
        "id": "fTcuM2wu85KL"
      },
      "execution_count": null,
      "outputs": []
    }
  ]
}