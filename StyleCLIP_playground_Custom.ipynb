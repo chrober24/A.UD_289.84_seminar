{
  "nbformat": 4,
  "nbformat_minor": 0,
  "metadata": {
    "accelerator": "GPU",
    "colab": {
      "name": "StyleCLIP-playground_Custom.ipynb",
      "provenance": [],
      "collapsed_sections": [],
      "include_colab_link": true
    },
    "kernelspec": {
      "display_name": "Python 3",
      "language": "python",
      "name": "python3"
    },
    "language_info": {
      "codemirror_mode": {
        "name": "ipython",
        "version": 3
      },
      "file_extension": ".py",
      "mimetype": "text/x-python",
      "name": "python",
      "nbconvert_exporter": "python",
      "pygments_lexer": "ipython3",
      "version": "3.8.5"
    }
  },
  "cells": [
    {
      "cell_type": "markdown",
      "metadata": {
        "id": "view-in-github",
        "colab_type": "text"
      },
      "source": [
        "<a href=\"https://colab.research.google.com/github/chrober24/A.UD_289.84_seminar/blob/main/StyleCLIP_playground_Custom.ipynb\" target=\"_parent\"><img src=\"https://colab.research.google.com/assets/colab-badge.svg\" alt=\"Open In Colab\"/></a>"
      ]
    },
    {
      "cell_type": "markdown",
      "metadata": {
        "id": "4J1lmK2Viqey"
      },
      "source": [
        "# Text-Guided Editing of Images (Using CLIP and StyleGAN)"
      ]
    },
    {
      "cell_type": "markdown",
      "source": [
        "# Setup"
      ],
      "metadata": {
        "id": "5wtomsoaVuhL"
      }
    },
    {
      "cell_type": "code",
      "metadata": {
        "id": "1ISx91HUV0Nr",
        "colab": {
          "base_uri": "https://localhost:8080/"
        },
        "outputId": "c89a8645-5a0d-4c06-d694-a955591060cf",
        "cellView": "form"
      },
      "source": [
        "#@title Check GPU\n",
        "!nvidia-smi -L"
      ],
      "execution_count": 1,
      "outputs": [
        {
          "output_type": "stream",
          "name": "stdout",
          "text": [
            "GPU 0: Tesla T4 (UUID: GPU-606eaa1c-fdd6-8d0f-a03c-791251c28e4b)\n"
          ]
        }
      ]
    },
    {
      "cell_type": "code",
      "metadata": {
        "id": "C-LU395da_Pe",
        "colab": {
          "base_uri": "https://localhost:8080/"
        },
        "outputId": "ff1e07e9-956c-4a08-a016-b14ff08ec2c6",
        "cellView": "form"
      },
      "source": [
        "#@title Mount Google Drive\n",
        "\n",
        "from google.colab import drive\n",
        "drive.mount('/content/drive')"
      ],
      "execution_count": 2,
      "outputs": [
        {
          "output_type": "stream",
          "name": "stdout",
          "text": [
            "Mounted at /content/drive\n"
          ]
        }
      ]
    },
    {
      "cell_type": "code",
      "source": [
        "#@title Setup\n",
        "import os\n",
        "\n",
        "!git clone https://github.com/dvschultz/stylegan2-ada-pytorch/\n",
        "!git clone https://github.com/rosinality/stylegan2-pytorch\n",
        "!pip install ninja\n",
        "\n",
        "!pip install ftfy regex tqdm\n",
        "!pip install git+https://github.com/openai/CLIP.git\n",
        "\n",
        "if os.path.isdir(\"/content/drive/MyDrive/Style_CLIP\"):\n",
        "  %cd \"/content/drive/MyDrive/Style_CLIP/StyleCLIP\"\n",
        "elif os.path.isdir(\"/content/drive/\"):\n",
        "  %cd \"/content/drive/MyDrive/\"\n",
        "  !mkdir Style_CLIP\n",
        "  %cd Style_CLIP\n",
        "  !git clone https://github.com/dvschultz/StyleCLIP.git\n",
        "  %cd StyleCLIP\n",
        "  !mkdir pkls\n",
        "  !mkdir pts\n",
        "else:\n",
        "  !git clone https://github.com/dvschultz/StyleCLIP.git\n",
        "  %cd StyleCLIP\n",
        "  !mkdir pkls\n",
        "  !mkdir pts"
      ],
      "metadata": {
        "cellView": "form",
        "id": "mLdMP9GCbGqA"
      },
      "execution_count": null,
      "outputs": []
    },
    {
      "cell_type": "markdown",
      "source": [
        "# Model Conversion"
      ],
      "metadata": {
        "id": "5neXtv4TYJ2P"
      }
    },
    {
      "cell_type": "markdown",
      "metadata": {
        "id": "GzZbVLj6T0Lz"
      },
      "source": [
        "This model requires a model file in the Rosinality format. You must convert your Pkl file to Pt format for this to run. You can do this with the next cell. Alternatively, you can use [this notebook](https://colab.research.google.com/github/dvschultz/stylegan2-ada-pytorch/blob/main/SG2_ADA_PT_to_Rosinality.ipynb)"
      ]
    },
    {
      "cell_type": "code",
      "source": [
        "#@title Convert Pkl to Pt\n",
        "\n",
        "%cd /content/stylegan2-ada-pytorch/\n",
        "\n",
        "pkl_filepath = '/content/drive/MyDrive/colab-sg2-ada-pytorch/stylegan2-ada-pytorch/pretrained/forest_gothic.pkl' #@param {type: 'string'}\n",
        "pt_filepath = '/content/drive/MyDrive/Style_CLIP/StyleCLIP/pts/forest_gothic.pt' #@param {type: 'string'}\n",
        "\n",
        "!python export_weights.py $pkl_filepath $pt_filepath\n",
        "\n",
        "%cd /content/drive/MyDrive/Style_CLIP/StyleCLIP"
      ],
      "metadata": {
        "cellView": "form",
        "id": "XceC6CG_Wkxz"
      },
      "execution_count": null,
      "outputs": []
    },
    {
      "cell_type": "markdown",
      "source": [
        "# Settings"
      ],
      "metadata": {
        "id": "YH5VmBKPV3dB"
      }
    },
    {
      "cell_type": "markdown",
      "metadata": {
        "id": "p0Oxuc0sSWgN"
      },
      "source": [
        "`Edit` will start with an image of your choice (upload a `.npz` file and set the path under `latent_path`), `free_generation` will start with a random image. "
      ]
    },
    {
      "cell_type": "code",
      "metadata": {
        "id": "XTAVTULlq87j",
        "cellView": "form"
      },
      "source": [
        "experiment_type = 'free_generation' \n",
        "\n",
        "model_path = '/content/drive/MyDrive/Style_CLIP/StyleCLIP/pts/forest_gothic.pt' #@param {type:\"string\"}\n",
        "\n",
        "description = 'A forest full of yellow columns' #@param {type:\"string\"}\n",
        "\n",
        "latent_path = None \n",
        "\n",
        "optimization_steps = 500 #@param {type:\"number\"}\n",
        "\n",
        "l2_lambda = 0.008\n",
        "\n",
        "stylegan_size = 1024 #@param ['256', '512', '1024']\n",
        "\n",
        "learning_rate = 0.2 #@param {type: 'slider', min: 0.01, max: 1, step: 0.01}\n",
        "\n",
        "truncation_psi = 0.7 #@param {type: 'slider', min:0, max:1, step:0.1}\n",
        "\n",
        "create_video = True #@param {type:\"boolean\"}\n",
        "\n",
        "args = {\n",
        "    \"description\": description,\n",
        "    \"ckpt\": model_path,\n",
        "    \"stylegan_size\": stylegan_size,\n",
        "    \"lr_rampup\": 0.05,\n",
        "    \"lr\": learning_rate, #default 0.1\n",
        "    \"step\": optimization_steps,\n",
        "    \"mode\": experiment_type,\n",
        "    \"l2_lambda\": l2_lambda,\n",
        "    \"latent_path\": latent_path,\n",
        "    \"truncation\": truncation_psi,\n",
        "    \"save_intermediate_image_every\": 1 if create_video else 20,\n",
        "    \"results_dir\": \"results\",\n",
        "    \"save_vector\": True\n",
        "}"
      ],
      "execution_count": 10,
      "outputs": []
    },
    {
      "cell_type": "markdown",
      "source": [
        "# Run"
      ],
      "metadata": {
        "id": "4EPNaw9kV-g1"
      }
    },
    {
      "cell_type": "code",
      "metadata": {
        "id": "WT9JRl8hnT1l",
        "cellView": "form"
      },
      "source": [
        "#@title Run Optimization\n",
        "\n",
        "\n",
        "from optimization.run_optimization import main\n",
        "from argparse import Namespace\n",
        "result = main(Namespace(**args))"
      ],
      "execution_count": null,
      "outputs": []
    },
    {
      "cell_type": "code",
      "metadata": {
        "id": "h15xcbHwnW0U",
        "cellView": "form"
      },
      "source": [
        "#@title Visualize Result\n",
        "from torchvision.utils import make_grid\n",
        "from torchvision.transforms import ToPILImage\n",
        "result_image = ToPILImage()(make_grid(result.detach().cpu(), normalize=True, scale_each=True, range=(-1, 1), padding=0))\n",
        "h, w = result_image.size\n",
        "result_image.resize((h // 2, w // 2))"
      ],
      "execution_count": null,
      "outputs": []
    },
    {
      "cell_type": "code",
      "metadata": {
        "id": "lNRSSi0IcQID",
        "pycharm": {
          "name": "#%%\n"
        }
      },
      "source": [
        "#@title Create and Download Video\n",
        "\n",
        "video_name = 'test' #@param {type: 'string'}\n",
        "vid_path = './' + video_name + '.mp4'\n",
        "\n",
        "!ffmpeg -r 15 -i ./results/%05d.png -c:v libx264 -vf fps=25 -pix_fmt yuv420p $vid_path"
      ],
      "execution_count": null,
      "outputs": []
    }
  ]
}