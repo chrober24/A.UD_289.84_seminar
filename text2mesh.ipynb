{
  "cells": [
    {
      "cell_type": "markdown",
      "metadata": {
        "id": "view-in-github",
        "colab_type": "text"
      },
      "source": [
        "<a href=\"https://colab.research.google.com/github/chrober24/A.UD_289.84_seminar/blob/main/text2mesh.ipynb\" target=\"_parent\"><img src=\"https://colab.research.google.com/assets/colab-badge.svg\" alt=\"Open In Colab\"/></a>"
      ]
    },
    {
      "cell_type": "code",
      "source": [
        "#@title Mount Google Drive\n",
        "from google.colab import drive\n",
        "drive.mount('/content/drive')"
      ],
      "metadata": {
        "cellView": "form",
        "id": "i0-5wR6pA-5_",
        "outputId": "1e6dc2f0-5a17-4161-9ba3-7cfbfa58db3a",
        "colab": {
          "base_uri": "https://localhost:8080/"
        }
      },
      "execution_count": 1,
      "outputs": [
        {
          "output_type": "stream",
          "name": "stdout",
          "text": [
            "Mounted at /content/drive\n"
          ]
        }
      ]
    },
    {
      "cell_type": "code",
      "source": [
        "#@title Create directories and clone github repository\n",
        "#@markdown this will take some time\n",
        "import os\n",
        "if os.path.isdir(\"/content/drive/MyDrive/text2mesh_colab/text2mesh\"):\n",
        "    %cd \"/content/drive/MyDrive/text2mesh_colab/text2mesh\"\n",
        "elif os.path.isdir(\"/content/drive/\"):\n",
        "    #install script\n",
        "    %cd \"/content/drive/MyDrive/\"\n",
        "    !mkdir text2mesh_colab\n",
        "    %cd text2mesh_colab/\n",
        "    !git clone https://github.com/threedle/text2mesh\n",
        "else:\n",
        "  !git clone https://github.com/threedle/text2mesh\n",
        "\n",
        "!pip install torch==1.9.0 torchvision==0.10.0 torchaudio==0.9.0\n",
        "!pip install trimesh==3.9.33 einops==0.3.2 scipy==1.5.2 \\\n",
        "             siren-pytorch==0.1.5 usd-core==21.8 \\\n",
        "             git+https://github.com/openai/CLIP.git@04f4dc2ca1ed0acc9893bd1a3b526a7e02c4bb10 \\\n",
        "             git+https://github.com/NVIDIAGameWorks/kaolin@838d982cb0765de75d3c5de15083d80b849fa737"
      ],
      "metadata": {
        "cellView": "form",
        "id": "18o5C5EoBSjN"
      },
      "execution_count": null,
      "outputs": []
    },
    {
      "cell_type": "code",
      "execution_count": 5,
      "metadata": {
        "id": "IViVGjRBZeQy",
        "cellView": "form"
      },
      "outputs": [],
      "source": [
        "#@title settings\n",
        "obj_path = \"/content/drive/MyDrive/text2mesh_colab/text2mesh/data/source_meshes/mesh_normals.obj\"  #@param {type: \"string\"}\n",
        "n_iter =   250 #@param {type: \"integer\"}\n",
        "prompt = \"highly detailed bee insect in unreal engine\" #@param {type: \"string\"}\n",
        "output_dir = \"/content/drive/MyDrive/text2mesh_colab/text2mesh/results\" #@param {type: \"string\"}"
      ]
    },
    {
      "cell_type": "code",
      "execution_count": null,
      "metadata": {
        "id": "NS6OmcG6ZzWF",
        "cellView": "form"
      },
      "outputs": [],
      "source": [
        "#@title Run text2mesh\n",
        "!python main.py --run branch \\\n",
        "                --obj_path {obj_path} \\\n",
        "                --output_dir {output_dir} \\\n",
        "                --prompt \"{prompt}\" \\\n",
        "                --sigma 12.0  --clamp tanh --n_normaugs 4 --n_augs 1 --normmincrop 0.1 --normmaxcrop 0.4 \\\n",
        "                --geoloss --colordepth 2 --normdepth 1 --frontview --frontview_std 4 --clipavg view \\\n",
        "                --lr_decay 0.7 --clamp tanh --normclamp tanh  --maxcrop 1.0 --save_render --seed 29 \\\n",
        "                --n_iter {n_iter}  --learning_rate 0.001 --normal_learning_rate 0.01 --standardize --no_pe --symmetry --background 1 1 1"
      ]
    },
    {
      "cell_type": "code",
      "execution_count": null,
      "metadata": {
        "id": "AtxlEMOTzI-V",
        "cellView": "form"
      },
      "outputs": [],
      "source": [
        "#@title export the results\n",
        "import matplotlib.pyplot as plt\n",
        "import importlib\n",
        "import PIL\n",
        "importlib.reload(PIL.TiffTags)\n",
        "import cv2\n",
        "import os\n",
        "\n",
        "\n",
        "frames = []\n",
        "for i in range(0, n_iter, 100):\n",
        "    img = cv2.imread(os.path.join(output_dir, f\"iter_{i}.jpg\"))\n",
        "    frames.append(img)\n",
        "    plt.figure(figsize=(20, 4))\n",
        "    plt.axis(\"off\")\n",
        "    plt.imshow(cv2.cvtColor(img, cv2.COLOR_BGR2RGB))\n",
        "    plt.show()"
      ]
    }
  ],
  "metadata": {
    "accelerator": "GPU",
    "colab": {
      "machine_shape": "hm",
      "name": "text2mesh.ipynb",
      "provenance": [],
      "include_colab_link": true
    },
    "kernelspec": {
      "display_name": "Python 3",
      "name": "python3"
    },
    "language_info": {
      "name": "python"
    }
  },
  "nbformat": 4,
  "nbformat_minor": 0
}